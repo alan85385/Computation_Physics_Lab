{
 "cells": [
  {
   "cell_type": "code",
   "execution_count": 1,
   "metadata": {},
   "outputs": [],
   "source": [
    "import numpy as np\n",
    "import matplotlib.pyplot as plt"
   ]
  },
  {
   "cell_type": "markdown",
   "metadata": {},
   "source": [
    "# Simple Harmonic Oscillator\n",
    "\n",
    "In this notebook, we numericlly solve the motion of a simple harmonic oscillator, using our own IVP solver `mysolver.py`.\n",
    "Import it by `import mysolver as solver`."
   ]
  },
  {
   "cell_type": "code",
   "execution_count": 2,
   "metadata": {},
   "outputs": [],
   "source": [
    "import mysolver as solver"
   ]
  },
  {
   "cell_type": "markdown",
   "metadata": {},
   "source": [
    "In the solver, we have to define the function to solve, i.e. define y' = f(t,y)."
   ]
  },
  {
   "cell_type": "code",
   "execution_count": 3,
   "metadata": {},
   "outputs": [],
   "source": [
    "def oscillator(t,y,K,M):\n",
    "        \"\"\"\n",
    "        The derivate function for an oscillator\n",
    "        In this example, we set\n",
    "\n",
    "        y[0] = x\n",
    "        y[1] = v\n",
    "\n",
    "        yderive[0] = x' = v\n",
    "        yderive[1] = v' = a\n",
    "\n",
    "        :param t: the time\n",
    "        :param y: the input values\n",
    "        :param K: the spring constant\n",
    "        :param M: the mass of the oscillator\n",
    "\n",
    "        \"\"\"\n",
    "        w = np.sqrt(K/M)\n",
    "        yderive = np.zeros(shape=y.shape)\n",
    "        yderive[0] = y[1]\n",
    "        yderive[1] = -w**2*y[0]\n",
    "        \n",
    "        return yderive"
   ]
  },
  {
   "cell_type": "markdown",
   "metadata": {},
   "source": [
    "Start from a large time step (50 steps) to compare different integration method.\n",
    "\n",
    "Let's assume the inital location of the oscillator is located at x = 1.0 (`A=1` and `y=[1,0]`).\\\n",
    "Assume the spring constant `K=1` and the mass of the oscillator `M=1`. \n",
    "\n",
    "Simulate the motion of the oscilator from time `t=0` upto `t=20` seconds.  "
   ]
  },
  {
   "cell_type": "code",
   "execution_count": 4,
   "metadata": {},
   "outputs": [],
   "source": [
    "A = 1 # the initial amplitude\n",
    "V = 0 # the initial velocity\n",
    "K = 1 # the spring constant\n",
    "M = 1 # the mass of the\n",
    "N = 10000 # the time partion number\n",
    "w = np.sqrt(K/M)\n",
    "\n",
    "t_span = (0, 5)\n",
    "y0     = np.array([A,V])\n",
    "t_eval = np.linspace(t_span[0], t_span[1], N)"
   ]
  },
  {
   "cell_type": "markdown",
   "metadata": {},
   "source": [
    "Now, let's solve this IVP with different numerical schemes:\n",
    "\n",
    "Euler's meothd:"
   ]
  },
  {
   "cell_type": "code",
   "execution_count": 5,
   "metadata": {},
   "outputs": [],
   "source": [
    "sol_Euler = solver.solve_ivp(oscillator, t_span, y0, \n",
    "                             method='Euler', t_eval = t_eval, args = (K,M))"
   ]
  },
  {
   "cell_type": "markdown",
   "metadata": {},
   "source": [
    "Runge-Kutta 2:"
   ]
  },
  {
   "cell_type": "code",
   "execution_count": 6,
   "metadata": {},
   "outputs": [],
   "source": [
    "sol_RK2 = solver.solve_ivp(oscillator, t_span, y0, \n",
    "                           method='RK2', t_eval = t_eval, args = (K,M))"
   ]
  },
  {
   "cell_type": "markdown",
   "metadata": {},
   "source": [
    "Runge-Kutta 4:"
   ]
  },
  {
   "cell_type": "code",
   "execution_count": 7,
   "metadata": {},
   "outputs": [],
   "source": [
    "sol_RK4 = solver.solve_ivp(oscillator, t_span, y0, \n",
    "                           method='RK4', t_eval = t_eval, args = (K,M))"
   ]
  },
  {
   "cell_type": "markdown",
   "metadata": {},
   "source": [
    "### Analytical solution\n",
    "\n",
    "For a simple harmonic oscillator, we know the analytical soltions."
   ]
  },
  {
   "cell_type": "code",
   "execution_count": 8,
   "metadata": {},
   "outputs": [],
   "source": [
    "t = np.linspace(t_span[0], t_span[1], 20)\n",
    "y_analytical = A*np.cos(w*t)\n",
    "v_analytical = -w*A*np.sin(w*t)"
   ]
  },
  {
   "cell_type": "markdown",
   "metadata": {},
   "source": [
    "Visualize the numerical and analytical solutions.\n",
    "\n",
    "Check both the position and velocity."
   ]
  },
  {
   "cell_type": "code",
   "execution_count": 9,
   "metadata": {},
   "outputs": [
    {
     "data": {
      "text/plain": [
       "<matplotlib.legend.Legend at 0x7f8a25866040>"
      ]
     },
     "execution_count": 9,
     "metadata": {},
     "output_type": "execute_result"
    },
    {
     "data": {
      "image/png": "[encoded data removed]",
      "text/plain": [
       "<Figure size 432x288 with 1 Axes>"
      ]
     },
     "metadata": {
      "needs_background": "light"
     },
     "output_type": "display_data"
    }
   ],
   "source": [
    "import matplotlib.pyplot as plt\n",
    "\n",
    "plt.plot(t_eval, sol_Euler[0], label='Euler')\n",
    "plt.plot(t_eval, sol_RK2[0], label='RK2')\n",
    "plt.plot(t_eval, sol_RK4[0], label='RK4')\n",
    "plt.plot(t, y_analytical, 'o', label='analytical')\n",
    "plt.ylim(-1.2*A, 1.2*A)\n",
    "plt.legend()"
   ]
  },
  {
   "cell_type": "code",
   "execution_count": 10,
   "metadata": {},
   "outputs": [
    {
     "data": {
      "text/plain": [
       "<matplotlib.legend.Legend at 0x7f8a25c0b280>"
      ]
     },
     "execution_count": 10,
     "metadata": {},
     "output_type": "execute_result"
    },
    {
     "data": {
      "image/png": "[encoded data removed]",
      "text/plain": [
       "<Figure size 432x288 with 1 Axes>"
      ]
     },
     "metadata": {
      "needs_background": "light"
     },
     "output_type": "display_data"
    }
   ],
   "source": [
    "import matplotlib.pyplot as plt\n",
    "\n",
    "plt.plot(t_eval, sol_Euler[1], label='Euler')\n",
    "plt.plot(t_eval, sol_RK2[1], label='RK2')\n",
    "plt.plot(t_eval, sol_RK4[1], label='RK4')\n",
    "plt.plot(t, v_analytical, 'o', label='analytical')\n",
    "plt.ylim(-1.2*A, 1.2*A)\n",
    "plt.legend()"
   ]
  },
  {
   "cell_type": "markdown",
   "metadata": {},
   "source": [
    "Now, repeat the calculations with different time steps. See how solution converged.\\\n",
    "Does your solutions close to the analytical solutions?\\ \n",
    "If yes, how small the time step with each numerical method?\\\n",
    "If not, why?  "
   ]
  },
  {
   "cell_type": "markdown",
   "metadata": {},
   "source": [
    "### Energy Conservation\n",
    "\n",
    "In addition to comparing with the analyical solutions, we could check the energy conservation as well."
   ]
  },
  {
   "cell_type": "code",
   "execution_count": 11,
   "metadata": {},
   "outputs": [
    {
     "data": {
      "text/plain": [
       "<matplotlib.legend.Legend at 0x7f8a25c0b9a0>"
      ]
     },
     "execution_count": 11,
     "metadata": {},
     "output_type": "execute_result"
    },
    {
     "data": {
      "image/png": "[encoded data removed]",
      "text/plain": [
       "<Figure size 432x288 with 1 Axes>"
      ]
     },
     "metadata": {
      "needs_background": "light"
     },
     "output_type": "display_data"
    }
   ],
   "source": [
    "import matplotlib.pyplot as plt\n",
    "\n",
    "Energy_Euler = 0.5*M*np.square(sol_Euler[1])+0.5*K*np.square(sol_Euler[0])\n",
    "Energy_RK2   = 0.5*M*np.square(sol_RK2[1])+0.5*K*np.square(sol_RK2[0])\n",
    "Energy_RK4   = 0.5*M*np.square(sol_RK4[1])+0.5*K*np.square(sol_RK4[0])\n",
    "Energy_Analytical = 0.5*M*np.square(V) + 0.5*K*np.square(A)\n",
    "\n",
    "plt.plot(t_eval, Energy_Euler, label='Euler')\n",
    "plt.plot(t_eval, Energy_RK2, label='RK2')\n",
    "plt.plot(t_eval, Energy_RK4, label='RK4')\n",
    "\n",
    "\n",
    "plt.legend()"
   ]
  },
  {
   "cell_type": "markdown",
   "metadata": {},
   "source": [
    "Also, comput the numerical errors"
   ]
  },
  {
   "cell_type": "code",
   "execution_count": 12,
   "metadata": {},
   "outputs": [
    {
     "data": {
      "text/plain": [
       "<matplotlib.legend.Legend at 0x7f8a261f63a0>"
      ]
     },
     "execution_count": 12,
     "metadata": {},
     "output_type": "execute_result"
    },
    {
     "data": {
      "image/png": "[encoded data removed]",
      "text/plain": [
       "<Figure size 432x288 with 1 Axes>"
      ]
     },
     "metadata": {
      "needs_background": "light"
     },
     "output_type": "display_data"
    }
   ],
   "source": [
    "import matplotlib.pyplot as plt\n",
    "\n",
    "Error_Euler = np.abs(Energy_Euler-Energy_Analytical)/Energy_Analytical\n",
    "Error_RK2   = np.abs(Energy_RK2-Energy_Analytical)/Energy_Analytical\n",
    "Error_RK4   = np.abs(Energy_RK4-Energy_Analytical)/Energy_Analytical\n",
    "\n",
    "plt.plot(t_eval[0:], Error_Euler[0:], label='Euler')\n",
    "plt.plot(t_eval[0:], Error_RK2[0:], label='RK2')\n",
    "plt.plot(t_eval[0:], Error_RK4[0:], label='RK4')\n",
    "\n",
    "plt.yscale('log')\n",
    "\n",
    "plt.legend()"
   ]
  },
  {
   "cell_type": "markdown",
   "metadata": {},
   "source": [
    "# Performance\n",
    "\n",
    "How fast is your calculation?\n",
    "\n",
    "In a reference calculation which I use 10^5 steps to integrate the IVP from `t =0` to `t=50` with `method=\"RK4\"`.\n",
    "A reference value using the `%timeit` function gives\n",
    "\n",
    "`1.37 s ± 16.9 ms per loop (mean ± std. dev. of 7 runs, 1 loop each)`\n",
    "\n",
    "and the same iteration with `method=\"Euler\"`,\n",
    "\n",
    "`310 ms ± 4.67 ms per loop (mean ± std. dev. of 7 runs, 1 loop each)`"
   ]
  },
  {
   "cell_type": "code",
   "execution_count": 13,
   "metadata": {},
   "outputs": [],
   "source": [
    "t_eval = np.linspace(0,50,100000)"
   ]
  },
  {
   "cell_type": "code",
   "execution_count": 14,
   "metadata": {},
   "outputs": [
    {
     "name": "stdout",
     "output_type": "stream",
     "text": [
      "704 ms ± 29.8 ms per loop (mean ± std. dev. of 7 runs, 1 loop each)\n"
     ]
    }
   ],
   "source": [
    "%timeit sol_Euler = solver.solve_ivp(oscillator, t_span, y0, method='Euler', t_eval = t_eval, args = (K,M))"
   ]
  },
  {
   "cell_type": "code",
   "execution_count": 15,
   "metadata": {},
   "outputs": [
    {
     "name": "stdout",
     "output_type": "stream",
     "text": [
      "1.26 s ± 41.5 ms per loop (mean ± std. dev. of 7 runs, 1 loop each)\n"
     ]
    }
   ],
   "source": [
    "%timeit sol_RK2 = solver.solve_ivp(oscillator, t_span, y0, method='RK2', t_eval = t_eval, args = (K,M))"
   ]
  },
  {
   "cell_type": "code",
   "execution_count": 16,
   "metadata": {},
   "outputs": [
    {
     "name": "stdout",
     "output_type": "stream",
     "text": [
      "2.61 s ± 91.1 ms per loop (mean ± std. dev. of 7 runs, 1 loop each)\n"
     ]
    }
   ],
   "source": [
    "%timeit sol_RK4 = solver.solve_ivp(oscillator, t_span, y0, method='RK4', t_eval = t_eval, args = (K,M))"
   ]
  },
  {
   "cell_type": "code",
   "execution_count": null,
   "metadata": {},
   "outputs": [],
   "source": []
  }
 ],
 "metadata": {
  "kernelspec": {
   "display_name": "Python 3",
   "language": "python",
   "name": "python3"
  },
  "language_info": {
   "codemirror_mode": {
    "name": "ipython",
    "version": 3
   },
   "file_extension": ".py",
   "mimetype": "text/x-python",
   "name": "python",
   "nbconvert_exporter": "python",
   "pygments_lexer": "ipython3",
   "version": "3.8.8"
  },
  "vscode": {
   "interpreter": {
    "hash": "8f0bcd1b4298e7001d18a405ab7bf6e793bc5e255b60eba5aae1bd7ca7b86ffe"
   }
  }
 },
 "nbformat": 4,
 "nbformat_minor": 2
}
