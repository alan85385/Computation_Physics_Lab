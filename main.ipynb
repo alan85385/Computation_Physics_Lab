{
 "cells": [
  {
   "cell_type": "code",
   "execution_count": 1,
   "id": "b1a007e9",
   "metadata": {},
   "outputs": [],
   "source": [
    "import numpy as np\n",
    "import matplotlib.pyplot as plt"
   ]
  },
  {
   "cell_type": "code",
   "execution_count": 22,
   "id": "1dbb994a",
   "metadata": {},
   "outputs": [],
   "source": [
    "class Balls:\n",
    "    \n",
    "    def __init__(self, N):\n",
    "        \n",
    "        self.N = N\n",
    "        \n",
    "        np.random.seed(0)\n",
    "        self.pos = 2*np.random.rand(N,3)-1\n",
    "        \n",
    "        np.random.seed(1)\n",
    "        self.vel = 2*np.random.rand(N,3)-1\n",
    "        \n",
    "        np.random.seed(2)\n",
    "        self.rad = np.random.rand(N)\n",
    "        "
   ]
  },
  {
   "cell_type": "code",
   "execution_count": 24,
   "id": "502e4bbc",
   "metadata": {},
   "outputs": [
    {
     "data": {
      "image/png": "[encoded data removed]",
      "text/plain": [
       "<Figure size 432x288 with 1 Axes>"
      ]
     },
     "metadata": {
      "needs_background": "light"
     },
     "output_type": "display_data"
    }
   ],
   "source": [
    "def iterate(pos, vel, dt):\n",
    "    pos += vel*dt\n",
    "    return pos\n",
    "\n",
    "numbers = 2              # particle numbers\n",
    "balls   = Balls(numbers) # balls\n",
    "\n",
    "N  = 100                  # time seperation numbers\n",
    "T  = 10                   # total time\n",
    "ts = np.linspace(0, T, N) # every time\n",
    "\n",
    "results = np.zeros(shape=(numbers, N, 3)) # result about balls' position\n",
    "\n",
    "for i, t in enumerate(ts):\n",
    "    \n",
    "    if i == 0:\n",
    "        \n",
    "        results[:,i,:] = balls.pos\n",
    "        \n",
    "    else:\n",
    "        \n",
    "        dt = t - ts[i-1]\n",
    "        \n",
    "        balls.pos = iterate(balls.pos, balls.vel, dt)\n",
    "        \n",
    "        results[:,i,:] = balls.pos\n",
    "    \n",
    "for n in range(numbers):\n",
    "    \n",
    "    plt.plot(results[n,:,0], results[n,:,1])"
   ]
  },
  {
   "cell_type": "code",
   "execution_count": null,
   "id": "c26593fb",
   "metadata": {},
   "outputs": [],
   "source": []
  },
  {
   "cell_type": "code",
   "execution_count": null,
   "id": "a328b615",
   "metadata": {},
   "outputs": [],
   "source": []
  }
 ],
 "metadata": {
  "kernelspec": {
   "display_name": "Python 3",
   "language": "python",
   "name": "python3"
  },
  "language_info": {
   "codemirror_mode": {
    "name": "ipython",
    "version": 3
   },
   "file_extension": ".py",
   "mimetype": "text/x-python",
   "name": "python",
   "nbconvert_exporter": "python",
   "pygments_lexer": "ipython3",
   "version": "3.8.8"
  }
 },
 "nbformat": 4,
 "nbformat_minor": 5
}
