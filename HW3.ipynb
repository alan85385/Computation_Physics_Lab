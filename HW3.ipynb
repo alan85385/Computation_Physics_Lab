{
 "cells": [
  {
   "cell_type": "code",
   "execution_count": 1,
   "id": "a51d3b8d",
   "metadata": {},
   "outputs": [],
   "source": [
    "import numpy as np\n",
    "import matplotlib.pyplot as plt\n",
    "import matplotlib.animation as animation\n",
    "from nbody import Particles, NbodySimulation\n",
    "import time"
   ]
  },
  {
   "cell_type": "code",
   "execution_count": 2,
   "id": "4c191aa2",
   "metadata": {},
   "outputs": [],
   "source": [
    "problem_name = \"N_Body\""
   ]
  },
  {
   "cell_type": "code",
   "execution_count": 17,
   "id": "6ed53acf",
   "metadata": {},
   "outputs": [
    {
     "name": "stdout",
     "output_type": "stream",
     "text": [
      "0\n",
      "60\n",
      "120\n",
      "180\n",
      "240\n",
      "300\n",
      "360\n",
      "420\n",
      "480\n",
      "540\n",
      "600\n",
      "660\n",
      "720\n",
      "780\n",
      "840\n",
      "900\n",
      "960\n",
      "1020\n",
      "1080\n",
      "1140\n",
      "1200\n",
      "1260\n",
      "1320\n",
      "1380\n",
      "1440\n",
      "1500\n",
      "1560\n",
      "1620\n",
      "1680\n",
      "1740\n",
      "1800\n",
      "1860\n",
      "1920\n",
      "1980\n",
      "2040\n",
      "2100\n",
      "2160\n",
      "2220\n",
      "2280\n",
      "2340\n",
      "2400\n",
      "2460\n",
      "2520\n",
      "2580\n",
      "2640\n",
      "2700\n",
      "2760\n",
      "2820\n",
      "2880\n",
      "2940\n",
      "Done!\n",
      "total time:  0.10457801818847656 s\n"
     ]
    },
    {
     "data": {
      "image/png": "[encoded data removed]",
      "text/plain": [
       "<Figure size 432x288 with 1 Axes>"
      ]
     },
     "metadata": {
      "needs_background": "light"
     },
     "output_type": "display_data"
    }
   ],
   "source": [
    "def initial_NormalDistribution(N):\n",
    "    \n",
    "    particles = Particles(N)\n",
    "    np.random.seed(111022544)\n",
    "    particles.set_positions(np.random.randn(N,3))\n",
    "    pos = particles.get_positions()\n",
    "    plt.scatter(pos[:,0], pos[:,1])\n",
    "    np.random.seed(111022544)\n",
    "    particles.set_velocities(np.random.randn(N,3))\n",
    "    np.random.seed(111022544)\n",
    "    particles.set_accelerations(np.random.randn(N,3))\n",
    "    masses = particles.get_masses()\n",
    "    particles.set_masses(20/N*masses)\n",
    "    \n",
    "    return particles\n",
    "\n",
    "t0 = time.time()\n",
    "particles = initial_NormalDistribution(3)\n",
    "sim = NbodySimulation(particles)\n",
    "sim.setup(G=1,rsoft=0.01,method=\"Euler\",io_freq=60,io_title=problem_name,io_screen=True,visualized=False)\n",
    "sol = sim.evolve(dt=0.01,tmax=30)\n",
    "t1 = time.time()\n",
    "print('total time: ',t1-t0, 's')\n"
   ]
  },
  {
   "cell_type": "code",
   "execution_count": 18,
   "id": "b57825d7",
   "metadata": {},
   "outputs": [
    {
     "data": {
      "text/plain": [
       "(-0.31311040748555297,\n",
       " 0.40697091687691844,\n",
       " 0.8979089358490038,\n",
       " 1.6179902602114753)"
      ]
     },
     "execution_count": 18,
     "metadata": {},
     "output_type": "execute_result"
    },
    {
     "data": {
      "image/png": "[encoded data removed]",
      "text/plain": [
       "<Figure size 432x288 with 1 Axes>"
      ]
     },
     "metadata": {
      "needs_background": "light"
     },
     "output_type": "display_data"
    }
   ],
   "source": [
    "x = sol[:,0,0]\n",
    "y = sol[:,1,0]\n",
    "\n",
    "plt.scatter(x, y)\n",
    "plt.axis('square')"
   ]
  },
  {
   "cell_type": "code",
   "execution_count": 19,
   "id": "c73b79c8",
   "metadata": {},
   "outputs": [
    {
     "data": {
      "text/plain": [
       "(-10.308132289872079,\n",
       " 10.171190018805843,\n",
       " 1.4269478951561734,\n",
       " 21.906270203834097)"
      ]
     },
     "execution_count": 19,
     "metadata": {},
     "output_type": "execute_result"
    },
    {
     "data": {
      "image/png": "[encoded data removed]",
      "text/plain": [
       "<Figure size 432x288 with 1 Axes>"
      ]
     },
     "metadata": {
      "needs_background": "light"
     },
     "output_type": "display_data"
    }
   ],
   "source": [
    "x = sol[:,0,200]\n",
    "y = sol[:,1,200]\n",
    "\n",
    "plt.scatter(x, y)\n",
    "plt.axis('square')"
   ]
  },
  {
   "cell_type": "code",
   "execution_count": 20,
   "id": "3ce9d5a7",
   "metadata": {},
   "outputs": [
    {
     "data": {
      "text/plain": [
       "(-32.66529048073727, 32.16362729426673, -1.0867236683955688, 63.74219410660843)"
      ]
     },
     "execution_count": 20,
     "metadata": {},
     "output_type": "execute_result"
    },
    {
     "data": {
      "image/png": "[encoded data removed]",
      "text/plain": [
       "<Figure size 432x288 with 1 Axes>"
      ]
     },
     "metadata": {
      "needs_background": "light"
     },
     "output_type": "display_data"
    }
   ],
   "source": [
    "x = sol[:,0,400]\n",
    "y = sol[:,1,400]\n",
    "\n",
    "plt.scatter(x, y)\n",
    "plt.axis('square')"
   ]
  },
  {
   "cell_type": "code",
   "execution_count": 21,
   "id": "2dd76bfc",
   "metadata": {},
   "outputs": [],
   "source": [
    "import glob"
   ]
  },
  {
   "cell_type": "code",
   "execution_count": 22,
   "id": "a2c97770",
   "metadata": {},
   "outputs": [],
   "source": [
    "fns = \"data_\"+problem_name+\"/\"+\"data_\"+problem_name+\"*.txt\"\n",
    "fns = glob.glob(fns)\n",
    "fns.sort()\n",
    "#print(fns) "
   ]
  },
  {
   "cell_type": "code",
   "execution_count": 23,
   "id": "4eb7e6ca",
   "metadata": {},
   "outputs": [
    {
     "name": "stdout",
     "output_type": "stream",
     "text": [
      "loadtxt done data_N_Body/data_N_Body_00000.txt\n",
      "loadtxt done data_N_Body/data_N_Body_00060.txt\n",
      "loadtxt done data_N_Body/data_N_Body_00120.txt\n",
      "loadtxt done data_N_Body/data_N_Body_00180.txt\n",
      "loadtxt done data_N_Body/data_N_Body_00240.txt\n",
      "loadtxt done data_N_Body/data_N_Body_00300.txt\n",
      "loadtxt done data_N_Body/data_N_Body_00360.txt\n",
      "loadtxt done data_N_Body/data_N_Body_00420.txt\n",
      "loadtxt done data_N_Body/data_N_Body_00480.txt\n",
      "loadtxt done data_N_Body/data_N_Body_00540.txt\n",
      "loadtxt done data_N_Body/data_N_Body_00600.txt\n",
      "loadtxt done data_N_Body/data_N_Body_00660.txt\n",
      "loadtxt done data_N_Body/data_N_Body_00720.txt\n",
      "loadtxt done data_N_Body/data_N_Body_00780.txt\n",
      "loadtxt done data_N_Body/data_N_Body_00840.txt\n",
      "loadtxt done data_N_Body/data_N_Body_00900.txt\n",
      "loadtxt done data_N_Body/data_N_Body_00960.txt\n",
      "loadtxt done data_N_Body/data_N_Body_01020.txt\n",
      "loadtxt done data_N_Body/data_N_Body_01080.txt\n",
      "loadtxt done data_N_Body/data_N_Body_01140.txt\n",
      "loadtxt done data_N_Body/data_N_Body_01200.txt\n",
      "loadtxt done data_N_Body/data_N_Body_01260.txt\n",
      "loadtxt done data_N_Body/data_N_Body_01320.txt\n",
      "loadtxt done data_N_Body/data_N_Body_01380.txt\n",
      "loadtxt done data_N_Body/data_N_Body_01440.txt\n",
      "loadtxt done data_N_Body/data_N_Body_01500.txt\n",
      "loadtxt done data_N_Body/data_N_Body_01560.txt\n",
      "loadtxt done data_N_Body/data_N_Body_01620.txt\n",
      "loadtxt done data_N_Body/data_N_Body_01680.txt\n",
      "loadtxt done data_N_Body/data_N_Body_01740.txt\n",
      "loadtxt done data_N_Body/data_N_Body_01800.txt\n",
      "loadtxt done data_N_Body/data_N_Body_01860.txt\n",
      "loadtxt done data_N_Body/data_N_Body_01920.txt\n",
      "loadtxt done data_N_Body/data_N_Body_01980.txt\n",
      "loadtxt done data_N_Body/data_N_Body_02040.txt\n",
      "loadtxt done data_N_Body/data_N_Body_02100.txt\n",
      "loadtxt done data_N_Body/data_N_Body_02160.txt\n",
      "loadtxt done data_N_Body/data_N_Body_02220.txt\n",
      "loadtxt done data_N_Body/data_N_Body_02280.txt\n",
      "loadtxt done data_N_Body/data_N_Body_02340.txt\n",
      "loadtxt done data_N_Body/data_N_Body_02400.txt\n",
      "loadtxt done data_N_Body/data_N_Body_02460.txt\n",
      "loadtxt done data_N_Body/data_N_Body_02520.txt\n",
      "loadtxt done data_N_Body/data_N_Body_02580.txt\n",
      "loadtxt done data_N_Body/data_N_Body_02640.txt\n",
      "loadtxt done data_N_Body/data_N_Body_02700.txt\n",
      "loadtxt done data_N_Body/data_N_Body_02760.txt\n",
      "loadtxt done data_N_Body/data_N_Body_02820.txt\n",
      "loadtxt done data_N_Body/data_N_Body_02880.txt\n",
      "loadtxt done data_N_Body/data_N_Body_02940.txt\n"
     ]
    },
    {
     "data": {
      "image/png": "[encoded data removed]",
      "text/plain": [
       "<Figure size 756x756 with 1 Axes>"
      ]
     },
     "metadata": {
      "needs_background": "light"
     },
     "output_type": "display_data"
    }
   ],
   "source": [
    "scale = 20\n",
    "\n",
    "fig, ax =plt.subplots()\n",
    "fig.set_size_inches(10.5, 10.5, forward=True)\n",
    "fig.set_dpi(72)\n",
    "line, = ax.plot([],[],'o')                   # plots of particles\n",
    "\n",
    "def init():\n",
    "    ax.set_xlim(-scale,scale)\n",
    "    ax.set_ylim(-scale,scale)\n",
    "    ax.set_aspect('equal')\n",
    "    ax.set_xlabel('X [code unit]')\n",
    "    ax.set_ylabel('Y [code unit]')\n",
    "    return line,\n",
    "\n",
    "def updateParticles(frame):\n",
    "    fn = fns[frame]\n",
    "    m,t,x,y,z,vx,vy,vz,ax,ay,az = np.loadtxt(fn)\n",
    "    print(\"loadtxt done\",fn)\n",
    "    line.set_data(x,y)\n",
    "    return line,\n",
    "\n",
    "ani = animation.FuncAnimation(fig, updateParticles, frames=len(fns),init_func=init, blit=True)\n",
    "#plt.show()\n",
    "ani.save('movie_'+problem_name+'.mp4',fps=10)"
   ]
  },
  {
   "cell_type": "code",
   "execution_count": null,
   "id": "70107044",
   "metadata": {},
   "outputs": [],
   "source": []
  }
 ],
 "metadata": {
  "kernelspec": {
   "display_name": "Python 3",
   "language": "python",
   "name": "python3"
  },
  "language_info": {
   "codemirror_mode": {
    "name": "ipython",
    "version": 3
   },
   "file_extension": ".py",
   "mimetype": "text/x-python",
   "name": "python",
   "nbconvert_exporter": "python",
   "pygments_lexer": "ipython3",
   "version": "3.8.8"
  }
 },
 "nbformat": 4,
 "nbformat_minor": 5
}
