{
 "cells": [
  {
   "cell_type": "code",
   "execution_count": 1,
   "id": "51f909f0",
   "metadata": {},
   "outputs": [],
   "source": [
    "import numpy as np\n",
    "import matplotlib.pyplot as plt\n",
    "import time\n",
    "from numba import jit"
   ]
  },
  {
   "cell_type": "code",
   "execution_count": 18,
   "id": "8faf1cb1",
   "metadata": {},
   "outputs": [
    {
     "name": "stdout",
     "output_type": "stream",
     "text": [
      "[  493.68275866    51.11255907  -202.16665181 ...  -643.94725799\n",
      " -1198.52751254  -440.85683443]\n",
      "[1460.05715724  467.09827586 1441.25178345 ... -137.87849003  792.22251754\n",
      " 1665.49387317]\n",
      "[ -961.8335539    947.33482936  1367.113171   ... -1057.36124058\n",
      "  -631.08404045  1051.9727533 ]\n",
      "11.796590805053711\n"
     ]
    }
   ],
   "source": [
    "N = 10000\n",
    "np.random.seed(111022544)\n",
    "pos = np.random.randn(N,3)\n",
    "np.random.seed(111022544)\n",
    "vel = np.random.randn(N,3)\n",
    "\n",
    "\n",
    "\n",
    "@jit(nopython=True)\n",
    "def G_Force(m, pos, G=1, r_soft=0.01):\n",
    "    '''\n",
    "    Xi,Xj = np.meshgrid(pos[:,0], pos[:,0], indexing='ij')\n",
    "    Yi,Yj = np.meshgrid(pos[:,1], pos[:,1], indexing='ij')\n",
    "    Zi,Zj = np.meshgrid(pos[:,2], pos[:,2], indexing='ij')\n",
    "    '''\n",
    "    Xi  = np.outer(np.ones((N,)),pos[:,0])\n",
    "    Yi  = np.outer(np.ones((N,)),pos[:,1])\n",
    "    Zi  = np.outer(np.ones((N,)),pos[:,2])\n",
    "    \n",
    "    Xij = Xi.T - Xi\n",
    "    Yij = Yi.T - Yi\n",
    "    Zij = Zi.T - Zi\n",
    "    \n",
    "    R = np.sqrt(Xij**2+Yij**2+Zij**2) + r_soft\n",
    "    \n",
    "    F = G*m**2/R**3\n",
    "    \n",
    "    Fx = F*Xij\n",
    "    Fy = F*Yij\n",
    "    Fz = F*Zij\n",
    "    \n",
    "    Fx_total = np.sum(Fx, axis=1)\n",
    "    Fy_total = np.sum(Fy, axis=1)\n",
    "    Fz_total = np.sum(Fz, axis=1)\n",
    "    \n",
    "    return Fx_total, Fy_total, Fz_total\n",
    "\n",
    "#pos = np.array([[0,0,0],[1,1,1]])\n",
    "t0 = time.time()\n",
    "Fx_total, Fy_total, Fz_total = G_Force(1, pos)\n",
    "t1 = time.time()\n",
    "print(Fx_total)\n",
    "print(Fy_total)\n",
    "print(Fz_total)\n",
    "print(t1-t0)"
   ]
  },
  {
   "cell_type": "code",
   "execution_count": 4,
   "id": "7ead76be",
   "metadata": {},
   "outputs": [
    {
     "name": "stdout",
     "output_type": "stream",
     "text": [
      "[[0. 1. 2. 3.]\n",
      " [0. 1. 2. 3.]\n",
      " [0. 1. 2. 3.]\n",
      " [0. 1. 2. 3.]]\n",
      "[[ 0. -1. -2. -3.]\n",
      " [ 1.  0. -1. -2.]\n",
      " [ 2.  1.  0. -1.]\n",
      " [ 3.  2.  1.  0.]]\n"
     ]
    }
   ],
   "source": [
    "pos = np.array([[0],[1],[2],[3]])\n",
    "Xi  = np.outer(np.ones((4,)),pos[:,0])\n",
    "print(Xi)\n",
    "\n",
    "xi,xj = np.meshgrid(pos[:,0], pos[:,0], indexing='xy')\n",
    "print(Xi.T-Xi)"
   ]
  },
  {
   "cell_type": "code",
   "execution_count": 24,
   "id": "9707c824",
   "metadata": {},
   "outputs": [
    {
     "data": {
      "text/plain": [
       "0.18915487922589125"
      ]
     },
     "execution_count": 24,
     "metadata": {},
     "output_type": "execute_result"
    }
   ],
   "source": [
    "1/(np.sqrt(3)+0.01)**3"
   ]
  },
  {
   "cell_type": "code",
   "execution_count": 21,
   "id": "b19a70be",
   "metadata": {},
   "outputs": [
    {
     "data": {
      "text/plain": [
       "0.2462871898274525"
      ]
     },
     "execution_count": 21,
     "metadata": {},
     "output_type": "execute_result"
    }
   ],
   "source": [
    "1/2.01**3*2"
   ]
  },
  {
   "cell_type": "code",
   "execution_count": 17,
   "id": "b749ba73",
   "metadata": {},
   "outputs": [
    {
     "data": {
      "text/plain": [
       "12.239506006240845"
      ]
     },
     "execution_count": 17,
     "metadata": {},
     "output_type": "execute_result"
    }
   ],
   "source": [
    "37.166444063186646 #N=10000 no jit\n",
    "12.239506006240845 #N=10000 with jit"
   ]
  },
  {
   "cell_type": "code",
   "execution_count": null,
   "id": "13e9c308",
   "metadata": {},
   "outputs": [],
   "source": []
  }
 ],
 "metadata": {
  "kernelspec": {
   "display_name": "Python 3",
   "language": "python",
   "name": "python3"
  },
  "language_info": {
   "codemirror_mode": {
    "name": "ipython",
    "version": 3
   },
   "file_extension": ".py",
   "mimetype": "text/x-python",
   "name": "python",
   "nbconvert_exporter": "python",
   "pygments_lexer": "ipython3",
   "version": "3.8.8"
  }
 },
 "nbformat": 4,
 "nbformat_minor": 5
}
