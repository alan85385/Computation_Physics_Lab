{
 "cells": [
  {
   "cell_type": "code",
   "execution_count": 13,
   "id": "51f909f0",
   "metadata": {},
   "outputs": [],
   "source": [
    "import numpy as np\n",
    "import matplotlib.pyplot as plt\n",
    "import time\n",
    "from numba import jit, njit, prange, set_num_threads"
   ]
  },
  {
   "cell_type": "code",
   "execution_count": 37,
   "id": "8faf1cb1",
   "metadata": {},
   "outputs": [
    {
     "name": "stdout",
     "output_type": "stream",
     "text": [
      "[-493.68275866  -51.11255907  202.16665181 ...  643.94725799 1198.52751254\n",
      "  440.85683443]\n",
      "[-1460.05715724  -467.09827586 -1441.25178345 ...   137.87849003\n",
      "  -792.22251754 -1665.49387317]\n",
      "[  961.8335539   -947.33482936 -1367.113171   ...  1057.36124058\n",
      "   631.08404045 -1051.9727533 ]\n",
      "total time 4.017325162887573\n"
     ]
    }
   ],
   "source": [
    "N = 10000\n",
    "np.random.seed(111022544)\n",
    "pos = np.random.randn(N,3)\n",
    "np.random.seed(111022544)\n",
    "vel = np.random.randn(N,3)\n",
    "\n",
    "@njit(parallel=True)\n",
    "def G_Force(m, Xi,Xj,Yi,Yj,Zi,Zj, G=1, r_soft=0.01):\n",
    "    \n",
    "    Xij = Xj - Xi\n",
    "    Yij = Yj - Yi\n",
    "    Zij = Zj - Zi\n",
    "    \n",
    "    '''\n",
    "    Xi  = np.outer(np.ones((N,)),pos[:,0])\n",
    "    Yi  = np.outer(np.ones((N,)),pos[:,1])\n",
    "    Zi  = np.outer(np.ones((N,)),pos[:,2])\n",
    "    \n",
    "    Xij = Xi.T - Xi\n",
    "    Yij = Yi.T - Yi\n",
    "    Zij = Zi.T - Zi\n",
    "    '''\n",
    "\n",
    "    R = np.sqrt(Xij**2+Yij**2+Zij**2)+r_soft\n",
    "    F = G*m**2/R**3\n",
    "    \n",
    "    Fx = F*Xij\n",
    "    Fy = F*Yij\n",
    "    Fz = F*Zij\n",
    "    \n",
    "    Fx_total = np.sum(Fx, axis=1)\n",
    "    Fy_total = np.sum(Fy, axis=1)\n",
    "    Fz_total = np.sum(Fz, axis=1)\n",
    "    \n",
    "    return Fx_total, Fy_total, Fz_total\n",
    "\n",
    "set_num_threads(8)\n",
    "#pos = np.array([[0,0,0],[1,1,1]])\n",
    "t0 = time.time()\n",
    "Xi,Xj = np.meshgrid(pos[:,0], pos[:,0], indexing='ij')\n",
    "Yi,Yj = np.meshgrid(pos[:,1], pos[:,1], indexing='ij')\n",
    "Zi,Zj = np.meshgrid(pos[:,2], pos[:,2], indexing='ij')\n",
    "\n",
    "Fx_total, Fy_total, Fz_total = G_Force(1, Xi,Xj,Yi,Yj,Zi,Zj)\n",
    "t1 = time.time()\n",
    "print(Fx_total) #0.18915488 -0.18915488\n",
    "print(Fy_total) #0.18915488 -0.18915488\n",
    "print(Fz_total) #0.18915488 -0.18915488\n",
    "print('total time',t1-t0)\n"
   ]
  },
  {
   "cell_type": "code",
   "execution_count": 4,
   "id": "7ead76be",
   "metadata": {},
   "outputs": [
    {
     "name": "stdout",
     "output_type": "stream",
     "text": [
      "[[0. 1. 2. 3.]\n",
      " [0. 1. 2. 3.]\n",
      " [0. 1. 2. 3.]\n",
      " [0. 1. 2. 3.]]\n",
      "[[ 0. -1. -2. -3.]\n",
      " [ 1.  0. -1. -2.]\n",
      " [ 2.  1.  0. -1.]\n",
      " [ 3.  2.  1.  0.]]\n"
     ]
    }
   ],
   "source": [
    "pos = np.array([[0],[1],[2],[3]])\n",
    "Xi  = np.outer(np.ones((4,)),pos[:,0])\n",
    "print(Xi)\n",
    "\n",
    "xi,xj = np.meshgrid(pos[:,0], pos[:,0], indexing='xy')\n",
    "print(Xi.T-Xi)"
   ]
  },
  {
   "cell_type": "code",
   "execution_count": 24,
   "id": "9707c824",
   "metadata": {},
   "outputs": [
    {
     "data": {
      "text/plain": [
       "0.18915487922589125"
      ]
     },
     "execution_count": 24,
     "metadata": {},
     "output_type": "execute_result"
    }
   ],
   "source": [
    "1/(np.sqrt(3)+0.01)**3"
   ]
  },
  {
   "cell_type": "code",
   "execution_count": 21,
   "id": "b19a70be",
   "metadata": {},
   "outputs": [
    {
     "data": {
      "text/plain": [
       "0.2462871898274525"
      ]
     },
     "execution_count": 21,
     "metadata": {},
     "output_type": "execute_result"
    }
   ],
   "source": [
    "1/2.01**3*2"
   ]
  },
  {
   "cell_type": "code",
   "execution_count": 17,
   "id": "b749ba73",
   "metadata": {},
   "outputs": [
    {
     "data": {
      "text/plain": [
       "12.239506006240845"
      ]
     },
     "execution_count": 17,
     "metadata": {},
     "output_type": "execute_result"
    }
   ],
   "source": [
    "#mac outer\n",
    "37.166444063186646 #N=10000 no jit\n",
    "12.239506006240845 #N=10000 with jit\n",
    "#12900k outer\n",
    "8.607457876205444 #N=10000 no jit\n",
    "8.322943449020386 #N=10000 with jit\n",
    "#12900k meshgrid\n",
    "7.489137887954712 #N=10000 no jit\n",
    "6.85585355758667  #N=10000 with jit\n",
    "#12900k meshgrid outside def\n",
    "5.434570550918579 #N=10000 with jit first\n",
    "#12900k meshgrid outside def\n",
    "4.00260066986084 #N=10000 with njit(parallel=True)"
   ]
  },
  {
   "cell_type": "code",
   "execution_count": null,
   "id": "13e9c308",
   "metadata": {},
   "outputs": [],
   "source": []
  }
 ],
 "metadata": {
  "kernelspec": {
   "display_name": "Python 3 (ipykernel)",
   "language": "python",
   "name": "python3"
  },
  "language_info": {
   "codemirror_mode": {
    "name": "ipython",
    "version": 3
   },
   "file_extension": ".py",
   "mimetype": "text/x-python",
   "name": "python",
   "nbconvert_exporter": "python",
   "pygments_lexer": "ipython3",
   "version": "3.9.13"
  }
 },
 "nbformat": 4,
 "nbformat_minor": 5
}
